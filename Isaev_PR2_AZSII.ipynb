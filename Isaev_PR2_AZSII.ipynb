{
 "cells": [
  {
   "cell_type": "code",
   "execution_count": 1,
   "id": "164eda5b",
   "metadata": {},
   "outputs": [
    {
     "name": "stderr",
     "output_type": "stream",
     "text": [
      "Cloning into 'EEL6812_DeepFool_Project'...\n"
     ]
    }
   ],
   "source": [
    "#cloning repo\n",
    "!git clone https://github.com/ewatson2/EEL6812_DeepFool_Project"
   ]
  },
  {
   "cell_type": "code",
   "execution_count": 2,
   "id": "811b125b",
   "metadata": {},
   "outputs": [
    {
     "name": "stdout",
     "output_type": "stream",
     "text": [
      "C:\\Users\\eva00\\Desktop\\bbmo\\d\\EEL6812_DeepFool_Project\n"
     ]
    }
   ],
   "source": [
    "#заходим в директорию\n",
    "%cd EEL6812_DeepFool_Project"
   ]
  },
  {
   "cell_type": "code",
   "execution_count": 3,
   "id": "16d1475d",
   "metadata": {},
   "outputs": [],
   "source": [
    "#импорт нужных библиотек\n",
    "import numpy as np\n",
    "import json, torch\n",
    "import os\n",
    "from torch.utils.data import DataLoader, random_split\n",
    "from torchvision import datasets, models\n",
    "from torchvision.transforms import transforms\n",
    "from models.project_models import FC_500_150, LeNet_CIFAR, LeNet_MNIST, Net\n",
    "from utils.project_utils import get_clip_bounds, evaluate_attack, display_attack"
   ]
  },
  {
   "cell_type": "code",
   "execution_count": 4,
   "id": "162483b4",
   "metadata": {},
   "outputs": [],
   "source": [
    "#значение rand_seed согласно варианту = Исаев А.М. - 42\n",
    "rand_seed = 42\n",
    "np.random.seed(rand_seed)\n",
    "torch.manual_seed(rand_seed)\n",
    "\n",
    "# в качестсве устройства используем видеокарту\n",
    "use_cuda = torch.cuda.is_available()\n",
    "device = torch.device('cuda' if use_cuda else 'cpu')"
   ]
  },
  {
   "cell_type": "code",
   "execution_count": 5,
   "id": "a29dfef9",
   "metadata": {},
   "outputs": [
    {
     "name": "stdout",
     "output_type": "stream",
     "text": [
      "Downloading http://yann.lecun.com/exdb/mnist/train-images-idx3-ubyte.gz\n",
      "Downloading http://yann.lecun.com/exdb/mnist/train-images-idx3-ubyte.gz to datasets/mnist\\MNIST\\raw\\train-images-idx3-ubyte.gz\n"
     ]
    },
    {
     "data": {
      "application/vnd.jupyter.widget-view+json": {
       "model_id": "c9c6a175b45f49b79557944c35ceef0d",
       "version_major": 2,
       "version_minor": 0
      },
      "text/plain": [
       "  0%|          | 0/9912422 [00:00<?, ?it/s]"
      ]
     },
     "metadata": {},
     "output_type": "display_data"
    },
    {
     "name": "stdout",
     "output_type": "stream",
     "text": [
      "Extracting datasets/mnist\\MNIST\\raw\\train-images-idx3-ubyte.gz to datasets/mnist\\MNIST\\raw\n",
      "\n",
      "Downloading http://yann.lecun.com/exdb/mnist/train-labels-idx1-ubyte.gz\n",
      "Downloading http://yann.lecun.com/exdb/mnist/train-labels-idx1-ubyte.gz to datasets/mnist\\MNIST\\raw\\train-labels-idx1-ubyte.gz\n"
     ]
    },
    {
     "data": {
      "application/vnd.jupyter.widget-view+json": {
       "model_id": "3aace352ac0749329777309f41692c50",
       "version_major": 2,
       "version_minor": 0
      },
      "text/plain": [
       "  0%|          | 0/28881 [00:00<?, ?it/s]"
      ]
     },
     "metadata": {},
     "output_type": "display_data"
    },
    {
     "name": "stdout",
     "output_type": "stream",
     "text": [
      "Extracting datasets/mnist\\MNIST\\raw\\train-labels-idx1-ubyte.gz to datasets/mnist\\MNIST\\raw\n",
      "\n",
      "Downloading http://yann.lecun.com/exdb/mnist/t10k-images-idx3-ubyte.gz\n",
      "Downloading http://yann.lecun.com/exdb/mnist/t10k-images-idx3-ubyte.gz to datasets/mnist\\MNIST\\raw\\t10k-images-idx3-ubyte.gz\n"
     ]
    },
    {
     "data": {
      "application/vnd.jupyter.widget-view+json": {
       "model_id": "ae8757d5e6bd466f8d4bb4154f9953ca",
       "version_major": 2,
       "version_minor": 0
      },
      "text/plain": [
       "  0%|          | 0/1648877 [00:00<?, ?it/s]"
      ]
     },
     "metadata": {},
     "output_type": "display_data"
    },
    {
     "name": "stdout",
     "output_type": "stream",
     "text": [
      "Extracting datasets/mnist\\MNIST\\raw\\t10k-images-idx3-ubyte.gz to datasets/mnist\\MNIST\\raw\n",
      "\n",
      "Downloading http://yann.lecun.com/exdb/mnist/t10k-labels-idx1-ubyte.gz\n",
      "Downloading http://yann.lecun.com/exdb/mnist/t10k-labels-idx1-ubyte.gz to datasets/mnist\\MNIST\\raw\\t10k-labels-idx1-ubyte.gz\n"
     ]
    },
    {
     "data": {
      "application/vnd.jupyter.widget-view+json": {
       "model_id": "57426212dd15451e8e02d0025da8524b",
       "version_major": 2,
       "version_minor": 0
      },
      "text/plain": [
       "  0%|          | 0/4542 [00:00<?, ?it/s]"
      ]
     },
     "metadata": {},
     "output_type": "display_data"
    },
    {
     "name": "stdout",
     "output_type": "stream",
     "text": [
      "Extracting datasets/mnist\\MNIST\\raw\\t10k-labels-idx1-ubyte.gz to datasets/mnist\\MNIST\\raw\n",
      "\n"
     ]
    }
   ],
   "source": [
    "#задаем значения для предобработки датасета MNIST\n",
    "mnist_mean = 0.5\n",
    "mnist_std = 0.5\n",
    "mnist_dim = 28\n",
    "\n",
    "mnist_min, mnist_max = get_clip_bounds(mnist_mean,\n",
    "                                       mnist_std,\n",
    "                                       mnist_dim)\n",
    "mnist_min = mnist_min.to(device)\n",
    "mnist_max = mnist_max.to(device)\n",
    "\n",
    "mnist_tf = transforms.Compose([\n",
    "    transforms.ToTensor(),\n",
    "    transforms.Normalize(\n",
    "        mean=mnist_mean,\n",
    "        std=mnist_std)])\n",
    "\n",
    "mnist_tf_train = transforms.Compose([\n",
    "    transforms.RandomHorizontalFlip(),\n",
    "    transforms.ToTensor(),\n",
    "    transforms.Normalize(\n",
    "        mean=mnist_mean,\n",
    "        std=mnist_std)])\n",
    "\n",
    "mnist_tf_inv = transforms.Compose([\n",
    "    transforms.Normalize(\n",
    "        mean=0.0,\n",
    "        std=np.divide(1.0, mnist_std)),\n",
    "    transforms.Normalize(\n",
    "        mean=np.multiply(-1.0, mnist_std),\n",
    "        std=1.0)])\n",
    "\n",
    "mnist_temp = datasets.MNIST(root='datasets/mnist', train=True,\n",
    "                            download=True, transform=mnist_tf_train)\n",
    "mnist_train, mnist_val = random_split(mnist_temp, [50000, 10000])\n",
    "\n",
    "mnist_test = datasets.MNIST(root='datasets/mnist', train=False,\n",
    "                            download=True, transform=mnist_tf)"
   ]
  },
  {
   "cell_type": "code",
   "execution_count": 6,
   "id": "9d71c76b",
   "metadata": {},
   "outputs": [
    {
     "name": "stdout",
     "output_type": "stream",
     "text": [
      "Downloading https://www.cs.toronto.edu/~kriz/cifar-10-python.tar.gz to datasets/cifar-10\\cifar-10-python.tar.gz\n"
     ]
    },
    {
     "data": {
      "application/vnd.jupyter.widget-view+json": {
       "model_id": "b622b5fa6c4d41c5920b453bc8bf1c34",
       "version_major": 2,
       "version_minor": 0
      },
      "text/plain": [
       "  0%|          | 0/170498071 [00:00<?, ?it/s]"
      ]
     },
     "metadata": {},
     "output_type": "display_data"
    },
    {
     "name": "stdout",
     "output_type": "stream",
     "text": [
      "Extracting datasets/cifar-10\\cifar-10-python.tar.gz to datasets/cifar-10\n",
      "Files already downloaded and verified\n"
     ]
    }
   ],
   "source": [
    "#также задаем значения и предобрабатываем для следующего датасета cifar-10\n",
    "cifar_mean = [0.491, 0.482, 0.447]\n",
    "cifar_std = [0.202, 0.199, 0.201]\n",
    "cifar_dim = 32\n",
    "\n",
    "cifar_min, cifar_max = get_clip_bounds(cifar_mean,\n",
    "                                       cifar_std,\n",
    "                                       cifar_dim)\n",
    "cifar_min = cifar_min.to(device)\n",
    "cifar_max = cifar_max.to(device)\n",
    "\n",
    "cifar_tf = transforms.Compose([\n",
    "    transforms.ToTensor(),\n",
    "    transforms.Normalize(\n",
    "        mean=cifar_mean,\n",
    "        std=cifar_std)])\n",
    "\n",
    "cifar_tf_train = transforms.Compose([\n",
    "    transforms.RandomCrop(\n",
    "        size=cifar_dim,\n",
    "        padding=4),\n",
    "    transforms.RandomHorizontalFlip(),\n",
    "    transforms.ToTensor(),\n",
    "    transforms.Normalize(\n",
    "        mean=cifar_mean,\n",
    "        std=cifar_std)])\n",
    "\n",
    "cifar_tf_inv = transforms.Compose([\n",
    "    transforms.Normalize(\n",
    "        mean=[0.0, 0.0, 0.0],\n",
    "        std=np.divide(1.0, cifar_std)),\n",
    "    transforms.Normalize(\n",
    "        mean=np.multiply(-1.0, cifar_mean),\n",
    "        std=[1.0, 1.0, 1.0])])\n",
    "\n",
    "cifar_temp = datasets.CIFAR10(root='datasets/cifar-10', train=True,\n",
    "                              download=True, transform=cifar_tf_train)\n",
    "cifar_train, cifar_val = random_split(cifar_temp, [40000, 10000])\n",
    "\n",
    "cifar_test = datasets.CIFAR10(root='datasets/cifar-10', train=False,\n",
    "                              download=True, transform=cifar_tf)\n",
    "\n",
    "cifar_classes = ['airplane', 'automobile', 'bird', 'cat', 'deer',\n",
    "                 'dog', 'frog', 'horse', 'ship', 'truck']"
   ]
  },
  {
   "cell_type": "code",
   "execution_count": 7,
   "id": "00a17d83",
   "metadata": {},
   "outputs": [],
   "source": [
    "# Настройка и загрузка Dataloader\n",
    "batch_size = 64\n",
    "workers = 4\n",
    "\n",
    "mnist_loader_train = DataLoader(mnist_train, batch_size=batch_size, shuffle=True, num_workers=workers)\n",
    "mnist_loader_val = DataLoader(mnist_val, batch_size=batch_size, shuffle=False, num_workers=workers)\n",
    "mnist_loader_test = DataLoader(mnist_test, batch_size=batch_size, shuffle=False, num_workers=workers)\n",
    "\n",
    "cifar_loader_train = DataLoader(cifar_train, batch_size=batch_size, shuffle=True, num_workers=workers)\n",
    "cifar_loader_val = DataLoader(cifar_val, batch_size=batch_size, shuffle=False, num_workers=workers)\n",
    "cifar_loader_test = DataLoader(cifar_test, batch_size=batch_size, shuffle=False, num_workers=workers)"
   ]
  },
  {
   "cell_type": "code",
   "execution_count": 8,
   "id": "121b440b",
   "metadata": {},
   "outputs": [
    {
     "name": "stdout",
     "output_type": "stream",
     "text": [
      "FGSM Test Error : 87.89%\n",
      "FGSM Robustness : 4.58e-01\n",
      "FGSM Time (All Images) : 0.29 s\n",
      "FGSM Time (Per Image) : 28.86 us\n",
      "\n",
      "DeepFool Test Error : 98.74%\n",
      "DeepFool Robustness : 9.64e-02\n",
      "DeepFool Time (All Images) : 193.32 s\n",
      "DeepFool Time (Per Image) : 19.33 ms\n"
     ]
    }
   ],
   "source": [
    "# Загружаем и оцениваем стойкость модели LeNet к FGSM и DeepFool атакам\n",
    "fgsm_eps = 0.6\n",
    "\n",
    "model = LeNet_MNIST().to(device)\n",
    "model.load_state_dict(torch.load('weights/clean/mnist_lenet.pth', map_location=torch.device('cpu')))\n",
    "\n",
    "evaluate_attack('mnist_lenet_fgsm.csv', 'results', device, model, mnist_loader_test, mnist_min, mnist_max, fgsm_eps, is_fgsm=True)\n",
    "\n",
    "print('')\n",
    "\n",
    "batch = 64\n",
    "num_classes = 10\n",
    "overshoot = 0.02\n",
    "max_iter = 50\n",
    "deep_arg = [batch, num_classes, overshoot, max_iter]\n",
    "\n",
    "evaluate_attack('mnist_lenet_deepfool.csv', 'results', device, model, mnist_loader_test, mnist_min, mnist_max, deep_arg, is_fgsm=False)\n",
    "\n",
    "if device.type == 'cuda':\n",
    "  torch.cuda.empty_cache()"
   ]
  },
  {
   "cell_type": "code",
   "execution_count": 9,
   "id": "092c6a0c",
   "metadata": {},
   "outputs": [
    {
     "name": "stdout",
     "output_type": "stream",
     "text": [
      "FGSM Test Error : 87.08%\n",
      "FGSM Robustness : 1.56e-01\n",
      "FGSM Time (All Images) : 0.15 s\n",
      "FGSM Time (Per Image) : 14.99 us\n",
      "\n",
      "DeepFool Test Error : 97.92%\n",
      "DeepFool Robustness : 6.78e-02\n",
      "DeepFool Time (All Images) : 141.81 s\n",
      "DeepFool Time (Per Image) : 14.18 ms\n"
     ]
    }
   ],
   "source": [
    "# Загружаем и оцениваем стойкость модели FC к FGSM и DeepFool атакам\n",
    "fgsm_eps = 0.2\n",
    "\n",
    "model = FC_500_150().to(device)\n",
    "model.load_state_dict(torch.load('weights/clean/mnist_fc.pth', map_location=torch.device('cpu')))\n",
    "\n",
    "evaluate_attack('mnist_fc_fgsm.csv', 'results', device, model, mnist_loader_test, mnist_min, mnist_max, fgsm_eps, is_fgsm=True)\n",
    "\n",
    "print('')\n",
    "\n",
    "batch = 64\n",
    "num_classes = 10\n",
    "overshoot = 0.02\n",
    "max_iter = 50\n",
    "deep_arg = [batch, num_classes, overshoot, max_iter]\n",
    "\n",
    "evaluate_attack('mnist_fc_deepfool.csv', 'results', device, model, mnist_loader_test, mnist_min, mnist_max, deep_arg, is_fgsm=False)\n",
    "\n",
    "if device.type == 'cuda':\n",
    "  torch.cuda.empty_cache()"
   ]
  },
  {
   "cell_type": "code",
   "execution_count": null,
   "id": "7c77cd83",
   "metadata": {},
   "outputs": [],
   "source": []
  }
 ],
 "metadata": {
  "kernelspec": {
   "display_name": "Python 3 (ipykernel)",
   "language": "python",
   "name": "python3"
  },
  "language_info": {
   "codemirror_mode": {
    "name": "ipython",
    "version": 3
   },
   "file_extension": ".py",
   "mimetype": "text/x-python",
   "name": "python",
   "nbconvert_exporter": "python",
   "pygments_lexer": "ipython3",
   "version": "3.9.13"
  }
 },
 "nbformat": 4,
 "nbformat_minor": 5
}
