{
  "cells": [
    {
      "cell_type": "markdown",
      "source": [
        "Исаев А.М. ПР 5 - АЗСИИ"
      ],
      "metadata": {
        "id": "-LzAFJzH_HM0"
      },
      "id": "-LzAFJzH_HM0"
    },
    {
      "cell_type": "markdown",
      "source": [
        "Пулим lime\n"
      ],
      "metadata": {
        "id": "k7pNnj37_UCa"
      },
      "id": "k7pNnj37_UCa"
    },
    {
      "cell_type": "code",
      "execution_count": null,
      "id": "171486c2",
      "metadata": {
        "id": "171486c2",
        "outputId": "81cfed5d-cdc8-4157-dc79-cb85bb6f2064"
      },
      "outputs": [
        {
          "name": "stderr",
          "output_type": "stream",
          "text": [
            "Cloning into 'lime'...\n"
          ]
        }
      ],
      "source": [
        "!git clone https://github.com/marcotcr/lime.git"
      ]
    },
    {
      "cell_type": "markdown",
      "source": [
        "Устанавливаем lime"
      ],
      "metadata": {
        "id": "uvFZg-s7_bsT"
      },
      "id": "uvFZg-s7_bsT"
    },
    {
      "cell_type": "code",
      "execution_count": null,
      "id": "ca52842d",
      "metadata": {
        "scrolled": true,
        "id": "ca52842d",
        "outputId": "2509be8b-5508-4d3a-a141-6e53440ec8e9"
      },
      "outputs": [
        {
          "name": "stdout",
          "output_type": "stream",
          "text": [
            "Requirement already satisfied: lime in c:\\users\\eva00\\appdata\\local\\packages\\pythonsoftwarefoundation.python.3.9_qbz5n2kfra8p0\\localcache\\local-packages\\python39\\site-packages (0.2.0.1)\n",
            "Requirement already satisfied: matplotlib in c:\\users\\eva00\\appdata\\local\\packages\\pythonsoftwarefoundation.python.3.9_qbz5n2kfra8p0\\localcache\\local-packages\\python39\\site-packages (from lime) (3.7.0)\n",
            "Requirement already satisfied: numpy in c:\\users\\eva00\\appdata\\local\\packages\\pythonsoftwarefoundation.python.3.9_qbz5n2kfra8p0\\localcache\\local-packages\\python39\\site-packages (from lime) (1.23.5)\n",
            "Requirement already satisfied: scipy in c:\\users\\eva00\\appdata\\local\\packages\\pythonsoftwarefoundation.python.3.9_qbz5n2kfra8p0\\localcache\\local-packages\\python39\\site-packages (from lime) (1.10.1)\n",
            "Requirement already satisfied: tqdm in c:\\users\\eva00\\appdata\\local\\packages\\pythonsoftwarefoundation.python.3.9_qbz5n2kfra8p0\\localcache\\local-packages\\python39\\site-packages (from lime) (4.64.1)\n",
            "Requirement already satisfied: scikit-learn>=0.18 in c:\\users\\eva00\\appdata\\local\\packages\\pythonsoftwarefoundation.python.3.9_qbz5n2kfra8p0\\localcache\\local-packages\\python39\\site-packages (from lime) (1.1.3)\n",
            "Requirement already satisfied: scikit-image>=0.12 in c:\\users\\eva00\\appdata\\local\\packages\\pythonsoftwarefoundation.python.3.9_qbz5n2kfra8p0\\localcache\\local-packages\\python39\\site-packages (from lime) (0.22.0)\n",
            "Requirement already satisfied: networkx>=2.8 in c:\\users\\eva00\\appdata\\local\\packages\\pythonsoftwarefoundation.python.3.9_qbz5n2kfra8p0\\localcache\\local-packages\\python39\\site-packages (from scikit-image>=0.12->lime) (3.1)\n",
            "Requirement already satisfied: pillow>=9.0.1 in c:\\users\\eva00\\appdata\\local\\packages\\pythonsoftwarefoundation.python.3.9_qbz5n2kfra8p0\\localcache\\local-packages\\python39\\site-packages (from scikit-image>=0.12->lime) (9.4.0)\n",
            "Requirement already satisfied: imageio>=2.27 in c:\\users\\eva00\\appdata\\local\\packages\\pythonsoftwarefoundation.python.3.9_qbz5n2kfra8p0\\localcache\\local-packages\\python39\\site-packages (from scikit-image>=0.12->lime) (2.33.0)\n",
            "Requirement already satisfied: tifffile>=2022.8.12 in c:\\users\\eva00\\appdata\\local\\packages\\pythonsoftwarefoundation.python.3.9_qbz5n2kfra8p0\\localcache\\local-packages\\python39\\site-packages (from scikit-image>=0.12->lime) (2023.9.26)\n",
            "Requirement already satisfied: packaging>=21 in c:\\users\\eva00\\appdata\\local\\packages\\pythonsoftwarefoundation.python.3.9_qbz5n2kfra8p0\\localcache\\local-packages\\python39\\site-packages (from scikit-image>=0.12->lime) (23.0)\n",
            "Requirement already satisfied: lazy_loader>=0.3 in c:\\users\\eva00\\appdata\\local\\packages\\pythonsoftwarefoundation.python.3.9_qbz5n2kfra8p0\\localcache\\local-packages\\python39\\site-packages (from scikit-image>=0.12->lime) (0.3)\n",
            "Requirement already satisfied: joblib>=1.0.0 in c:\\users\\eva00\\appdata\\local\\packages\\pythonsoftwarefoundation.python.3.9_qbz5n2kfra8p0\\localcache\\local-packages\\python39\\site-packages (from scikit-learn>=0.18->lime) (1.2.0)\n",
            "Requirement already satisfied: threadpoolctl>=2.0.0 in c:\\users\\eva00\\appdata\\local\\packages\\pythonsoftwarefoundation.python.3.9_qbz5n2kfra8p0\\localcache\\local-packages\\python39\\site-packages (from scikit-learn>=0.18->lime) (3.1.0)\n",
            "Requirement already satisfied: contourpy>=1.0.1 in c:\\users\\eva00\\appdata\\local\\packages\\pythonsoftwarefoundation.python.3.9_qbz5n2kfra8p0\\localcache\\local-packages\\python39\\site-packages (from matplotlib->lime) (1.0.7)\n",
            "Requirement already satisfied: cycler>=0.10 in c:\\users\\eva00\\appdata\\local\\packages\\pythonsoftwarefoundation.python.3.9_qbz5n2kfra8p0\\localcache\\local-packages\\python39\\site-packages (from matplotlib->lime) (0.11.0)\n",
            "Requirement already satisfied: fonttools>=4.22.0 in c:\\users\\eva00\\appdata\\local\\packages\\pythonsoftwarefoundation.python.3.9_qbz5n2kfra8p0\\localcache\\local-packages\\python39\\site-packages (from matplotlib->lime) (4.38.0)\n",
            "Requirement already satisfied: kiwisolver>=1.0.1 in c:\\users\\eva00\\appdata\\local\\packages\\pythonsoftwarefoundation.python.3.9_qbz5n2kfra8p0\\localcache\\local-packages\\python39\\site-packages (from matplotlib->lime) (1.4.4)\n",
            "Requirement already satisfied: pyparsing>=2.3.1 in c:\\users\\eva00\\appdata\\local\\packages\\pythonsoftwarefoundation.python.3.9_qbz5n2kfra8p0\\localcache\\local-packages\\python39\\site-packages (from matplotlib->lime) (3.0.9)\n",
            "Requirement already satisfied: python-dateutil>=2.7 in c:\\users\\eva00\\appdata\\local\\packages\\pythonsoftwarefoundation.python.3.9_qbz5n2kfra8p0\\localcache\\local-packages\\python39\\site-packages (from matplotlib->lime) (2.8.2)\n",
            "Requirement already satisfied: importlib-resources>=3.2.0 in c:\\users\\eva00\\appdata\\local\\packages\\pythonsoftwarefoundation.python.3.9_qbz5n2kfra8p0\\localcache\\local-packages\\python39\\site-packages (from matplotlib->lime) (5.12.0)\n",
            "Requirement already satisfied: colorama in c:\\users\\eva00\\appdata\\local\\packages\\pythonsoftwarefoundation.python.3.9_qbz5n2kfra8p0\\localcache\\local-packages\\python39\\site-packages (from tqdm->lime) (0.4.6)\n",
            "Requirement already satisfied: zipp>=3.1.0 in c:\\users\\eva00\\appdata\\local\\packages\\pythonsoftwarefoundation.python.3.9_qbz5n2kfra8p0\\localcache\\local-packages\\python39\\site-packages (from importlib-resources>=3.2.0->matplotlib->lime) (3.14.0)\n",
            "Requirement already satisfied: six>=1.5 in c:\\users\\eva00\\appdata\\local\\packages\\pythonsoftwarefoundation.python.3.9_qbz5n2kfra8p0\\localcache\\local-packages\\python39\\site-packages (from python-dateutil>=2.7->matplotlib->lime) (1.16.0)\n"
          ]
        }
      ],
      "source": [
        "!pip install lime"
      ]
    },
    {
      "cell_type": "markdown",
      "source": [
        "Выполняем импорт требуемых библиотек"
      ],
      "metadata": {
        "id": "A2mNEzjt_gGE"
      },
      "id": "A2mNEzjt_gGE"
    },
    {
      "cell_type": "code",
      "execution_count": null,
      "id": "482c3a1e",
      "metadata": {
        "id": "482c3a1e"
      },
      "outputs": [],
      "source": [
        "import numpy as np\n",
        "import matplotlib.pyplot as plt\n",
        "from skimage.color import gray2rgb, rgb2gray, label2rgb # since the code wants color images"
      ]
    },
    {
      "cell_type": "markdown",
      "source": [
        "Загружаем датасет MNIST, преобразуем каждое изображение в цветное для корректной работы lime - Ррезультаты преобразования сохраняем в массиыв X_vec,  y_vec, содержащий соответствующие метки (цифры от 0 до 9) для каждого изображения."
      ],
      "metadata": {
        "id": "0mNtyA2m_oKd"
      },
      "id": "0mNtyA2m_oKd"
    },
    {
      "cell_type": "code",
      "execution_count": null,
      "id": "bb2cd683",
      "metadata": {
        "id": "bb2cd683"
      },
      "outputs": [],
      "source": [
        "from sklearn.datasets import fetch_openml\n",
        "mnist = fetch_openml('mnist_784')\n",
        "# сделаем каждое изображение цветным, чтобы lime_image работал корректно\n",
        "X_vec = np.stack([gray2rgb(iimg) for iimg in mnist.data.values.astype(np.uint8).reshape((-1, 28, 28))],0).astype(np.uint8)\n",
        "y_vec = mnist.target.astype(np.uint8)"
      ]
    },
    {
      "cell_type": "markdown",
      "source": [
        "Визуализируем первую цифру из MNIST"
      ],
      "metadata": {
        "id": "9VRpKzmo_8hy"
      },
      "id": "9VRpKzmo_8hy"
    },
    {
      "cell_type": "code",
      "execution_count": null,
      "id": "2457181b",
      "metadata": {
        "id": "2457181b",
        "outputId": "ff84d8d7-0c4c-4d38-bbbe-c7d9f92e78ee"
      },
      "outputs": [
        {
          "data": {
            "text/plain": [
              "Text(0.5, 1.0, 'Digit: 5')"
            ]
          },
          "execution_count": 9,
          "metadata": {},
          "output_type": "execute_result"
        },
        {
          "data": {
            "image/png": "[encoded data removed]",
            "text/plain": [
              "<Figure size 640x480 with 1 Axes>"
            ]
          },
          "metadata": {},
          "output_type": "display_data"
        }
      ],
      "source": [
        "%matplotlib inline\n",
        "fig, ax1 = plt.subplots(1,1)\n",
        "ax1.imshow(X_vec[0], interpolation = 'none')\n",
        "ax1.set_title('Digit: {}'.format(y_vec[0]))"
      ]
    },
    {
      "cell_type": "markdown",
      "source": [
        "**Создаем конвеер(pipeline)**\n",
        "Собственно сам он нужен для обработки изображений"
      ],
      "metadata": {
        "id": "heInnf-gAGwQ"
      },
      "id": "heInnf-gAGwQ"
    },
    {
      "cell_type": "code",
      "execution_count": null,
      "id": "ffa9ffbd",
      "metadata": {
        "id": "ffa9ffbd"
      },
      "outputs": [],
      "source": [
        "\n",
        "#Этот код создаёт конвейер для обработки изображений, который превращает изображения в одномерные векторы и затем использует классификатор RandomForest для их анализа.\n",
        "from sklearn.pipeline import Pipeline\n",
        "from sklearn.ensemble import RandomForestClassifier\n",
        "from sklearn.preprocessing import Normalizer\n",
        "\n",
        "class PipeStep(object):\n",
        "    \"\"\"\n",
        "    Эта обёртка позволяет использовать функции внутри конвейера обработки данных без необходимости их обучения или подгонки (fitting).\n",
        "    \"\"\"\n",
        "    def __init__(self, step_func):\n",
        "        self._step_func=step_func\n",
        "    def fit(self,*args):\n",
        "        return self\n",
        "    def transform(self,X):\n",
        "        return self._step_func(X)\n",
        "\n",
        "\n",
        "makegray_step = PipeStep(lambda img_list: [rgb2gray(img) for img in img_list])\n",
        "flatten_step = PipeStep(lambda img_list: [img.ravel() for img in img_list])\n",
        "\n",
        "simple_rf_pipeline = Pipeline([\n",
        "    ('Make Gray', makegray_step),\n",
        "    ('Flatten Image', flatten_step),\n",
        "    #('Normalize', Normalizer()),\n",
        "    #('PCA', PCA(16)),\n",
        "    ('RF', RandomForestClassifier())\n",
        "                              ])"
      ]
    },
    {
      "cell_type": "markdown",
      "source": [
        "Разделяем данные на обучающие и test наборы, 55 % - для обучения 45 % - тестирование"
      ],
      "metadata": {
        "id": "cWcNPo6RAe75"
      },
      "id": "cWcNPo6RAe75"
    },
    {
      "cell_type": "code",
      "execution_count": null,
      "id": "e1e72a0c",
      "metadata": {
        "id": "e1e72a0c"
      },
      "outputs": [],
      "source": [
        "from sklearn.model_selection import train_test_split\n",
        "\n",
        "X_train, X_test, y_train, y_test = train_test_split(X_vec, y_vec,\n",
        "                                                    train_size=0.55)"
      ]
    },
    {
      "cell_type": "code",
      "execution_count": null,
      "id": "a830dbe7",
      "metadata": {
        "id": "a830dbe7",
        "outputId": "d03e263f-86a9-49bf-c60c-e11528753085"
      },
      "outputs": [
        {
          "data": {
            "text/html": [
              "<style>#sk-container-id-1 {color: black;background-color: white;}#sk-container-id-1 pre{padding: 0;}#sk-container-id-1 div.sk-toggleable {background-color: white;}#sk-container-id-1 label.sk-toggleable__label {cursor: pointer;display: block;width: 100%;margin-bottom: 0;padding: 0.3em;box-sizing: border-box;text-align: center;}#sk-container-id-1 label.sk-toggleable__label-arrow:before {content: \"▸\";float: left;margin-right: 0.25em;color: #696969;}#sk-container-id-1 label.sk-toggleable__label-arrow:hover:before {color: black;}#sk-container-id-1 div.sk-estimator:hover label.sk-toggleable__label-arrow:before {color: black;}#sk-container-id-1 div.sk-toggleable__content {max-height: 0;max-width: 0;overflow: hidden;text-align: left;background-color: #f0f8ff;}#sk-container-id-1 div.sk-toggleable__content pre {margin: 0.2em;color: black;border-radius: 0.25em;background-color: #f0f8ff;}#sk-container-id-1 input.sk-toggleable__control:checked~div.sk-toggleable__content {max-height: 200px;max-width: 100%;overflow: auto;}#sk-container-id-1 input.sk-toggleable__control:checked~label.sk-toggleable__label-arrow:before {content: \"▾\";}#sk-container-id-1 div.sk-estimator input.sk-toggleable__control:checked~label.sk-toggleable__label {background-color: #d4ebff;}#sk-container-id-1 div.sk-label input.sk-toggleable__control:checked~label.sk-toggleable__label {background-color: #d4ebff;}#sk-container-id-1 input.sk-hidden--visually {border: 0;clip: rect(1px 1px 1px 1px);clip: rect(1px, 1px, 1px, 1px);height: 1px;margin: -1px;overflow: hidden;padding: 0;position: absolute;width: 1px;}#sk-container-id-1 div.sk-estimator {font-family: monospace;background-color: #f0f8ff;border: 1px dotted black;border-radius: 0.25em;box-sizing: border-box;margin-bottom: 0.5em;}#sk-container-id-1 div.sk-estimator:hover {background-color: #d4ebff;}#sk-container-id-1 div.sk-parallel-item::after {content: \"\";width: 100%;border-bottom: 1px solid gray;flex-grow: 1;}#sk-container-id-1 div.sk-label:hover label.sk-toggleable__label {background-color: #d4ebff;}#sk-container-id-1 div.sk-serial::before {content: \"\";position: absolute;border-left: 1px solid gray;box-sizing: border-box;top: 0;bottom: 0;left: 50%;z-index: 0;}#sk-container-id-1 div.sk-serial {display: flex;flex-direction: column;align-items: center;background-color: white;padding-right: 0.2em;padding-left: 0.2em;position: relative;}#sk-container-id-1 div.sk-item {position: relative;z-index: 1;}#sk-container-id-1 div.sk-parallel {display: flex;align-items: stretch;justify-content: center;background-color: white;position: relative;}#sk-container-id-1 div.sk-item::before, #sk-container-id-1 div.sk-parallel-item::before {content: \"\";position: absolute;border-left: 1px solid gray;box-sizing: border-box;top: 0;bottom: 0;left: 50%;z-index: -1;}#sk-container-id-1 div.sk-parallel-item {display: flex;flex-direction: column;z-index: 1;position: relative;background-color: white;}#sk-container-id-1 div.sk-parallel-item:first-child::after {align-self: flex-end;width: 50%;}#sk-container-id-1 div.sk-parallel-item:last-child::after {align-self: flex-start;width: 50%;}#sk-container-id-1 div.sk-parallel-item:only-child::after {width: 0;}#sk-container-id-1 div.sk-dashed-wrapped {border: 1px dashed gray;margin: 0 0.4em 0.5em 0.4em;box-sizing: border-box;padding-bottom: 0.4em;background-color: white;}#sk-container-id-1 div.sk-label label {font-family: monospace;font-weight: bold;display: inline-block;line-height: 1.2em;}#sk-container-id-1 div.sk-label-container {text-align: center;}#sk-container-id-1 div.sk-container {/* jupyter's `normalize.less` sets `[hidden] { display: none; }` but bootstrap.min.css set `[hidden] { display: none !important; }` so we also need the `!important` here to be able to override the default hidden behavior on the sphinx rendered scikit-learn.org. See: https://github.com/scikit-learn/scikit-learn/issues/21755 */display: inline-block !important;position: relative;}#sk-container-id-1 div.sk-text-repr-fallback {display: none;}</style><div id=\"sk-container-id-1\" class=\"sk-top-container\"><div class=\"sk-text-repr-fallback\"><pre>Pipeline(steps=[(&#x27;Make Gray&#x27;, &lt;__main__.PipeStep object at 0x0000021480D20970&gt;),\n",
              "                (&#x27;Flatten Image&#x27;,\n",
              "                 &lt;__main__.PipeStep object at 0x0000021480D20A90&gt;),\n",
              "                (&#x27;RF&#x27;, RandomForestClassifier())])</pre><b>In a Jupyter environment, please rerun this cell to show the HTML representation or trust the notebook. <br />On GitHub, the HTML representation is unable to render, please try loading this page with nbviewer.org.</b></div><div class=\"sk-container\" hidden><div class=\"sk-item sk-dashed-wrapped\"><div class=\"sk-label-container\"><div class=\"sk-label sk-toggleable\"><input class=\"sk-toggleable__control sk-hidden--visually\" id=\"sk-estimator-id-1\" type=\"checkbox\" ><label for=\"sk-estimator-id-1\" class=\"sk-toggleable__label sk-toggleable__label-arrow\">Pipeline</label><div class=\"sk-toggleable__content\"><pre>Pipeline(steps=[(&#x27;Make Gray&#x27;, &lt;__main__.PipeStep object at 0x0000021480D20970&gt;),\n",
              "                (&#x27;Flatten Image&#x27;,\n",
              "                 &lt;__main__.PipeStep object at 0x0000021480D20A90&gt;),\n",
              "                (&#x27;RF&#x27;, RandomForestClassifier())])</pre></div></div></div><div class=\"sk-serial\"><div class=\"sk-item\"><div class=\"sk-estimator sk-toggleable\"><input class=\"sk-toggleable__control sk-hidden--visually\" id=\"sk-estimator-id-2\" type=\"checkbox\" ><label for=\"sk-estimator-id-2\" class=\"sk-toggleable__label sk-toggleable__label-arrow\">PipeStep</label><div class=\"sk-toggleable__content\"><pre>&lt;__main__.PipeStep object at 0x0000021480D20970&gt;</pre></div></div></div><div class=\"sk-item\"><div class=\"sk-estimator sk-toggleable\"><input class=\"sk-toggleable__control sk-hidden--visually\" id=\"sk-estimator-id-3\" type=\"checkbox\" ><label for=\"sk-estimator-id-3\" class=\"sk-toggleable__label sk-toggleable__label-arrow\">PipeStep</label><div class=\"sk-toggleable__content\"><pre>&lt;__main__.PipeStep object at 0x0000021480D20A90&gt;</pre></div></div></div><div class=\"sk-item\"><div class=\"sk-estimator sk-toggleable\"><input class=\"sk-toggleable__control sk-hidden--visually\" id=\"sk-estimator-id-4\" type=\"checkbox\" ><label for=\"sk-estimator-id-4\" class=\"sk-toggleable__label sk-toggleable__label-arrow\">RandomForestClassifier</label><div class=\"sk-toggleable__content\"><pre>RandomForestClassifier()</pre></div></div></div></div></div></div></div>"
            ],
            "text/plain": [
              "Pipeline(steps=[('Make Gray', <__main__.PipeStep object at 0x0000021480D20970>),\n",
              "                ('Flatten Image',\n",
              "                 <__main__.PipeStep object at 0x0000021480D20A90>),\n",
              "                ('RF', RandomForestClassifier())])"
            ]
          },
          "execution_count": 12,
          "metadata": {},
          "output_type": "execute_result"
        }
      ],
      "source": [
        "simple_rf_pipeline.fit(X_train, y_train)"
      ]
    },
    {
      "cell_type": "markdown",
      "source": [
        "%load_ext autoreload и %autoreload 2 позволяют перезагрузить модули Python при их изменении, после импортируем lime"
      ],
      "metadata": {
        "id": "D6U54AAIAxVF"
      },
      "id": "D6U54AAIAxVF"
    },
    {
      "cell_type": "code",
      "execution_count": null,
      "id": "ae77cb11",
      "metadata": {
        "id": "ae77cb11"
      },
      "outputs": [],
      "source": [
        "%load_ext autoreload\n",
        "%autoreload 2\n",
        "import os,sys\n",
        "try:\n",
        "    import lime\n",
        "except:\n",
        "    sys.path.append(os.path.join('..', '..')) # при ненахождении пути\n",
        "    import lime"
      ]
    },
    {
      "cell_type": "markdown",
      "source": [
        "Создаём объекты для объяснения работы модели на изображениях с помощью библиотеки Lime"
      ],
      "metadata": {
        "id": "YahVUK1jA-4u"
      },
      "id": "YahVUK1jA-4u"
    },
    {
      "cell_type": "code",
      "execution_count": null,
      "id": "4ca3d38b",
      "metadata": {
        "id": "4ca3d38b"
      },
      "outputs": [],
      "source": [
        "from lime import lime_image\n",
        "from lime.wrappers.scikit_image import SegmentationAlgorithm\n",
        "explainer = lime_image.LimeImageExplainer(verbose = False)\n",
        "segmenter = SegmentationAlgorithm('quickshift', kernel_size=1, max_dist=200, ratio=0.2)"
      ]
    },
    {
      "cell_type": "markdown",
      "source": [
        "Измеряем время с помощью которого сможем анализировать работу классификатора"
      ],
      "metadata": {
        "id": "yurLhvS5BOzV"
      },
      "id": "yurLhvS5BOzV"
    },
    {
      "cell_type": "code",
      "execution_count": null,
      "id": "aa22bf25",
      "metadata": {
        "colab": {
          "referenced_widgets": [
            "a98694f334de475e9e018a791f041d22"
          ]
        },
        "id": "aa22bf25",
        "outputId": "68433cb2-39af-4384-f1b8-5004323d9637"
      },
      "outputs": [
        {
          "data": {
            "application/vnd.jupyter.widget-view+json": {
              "model_id": "a98694f334de475e9e018a791f041d22",
              "version_major": 2,
              "version_minor": 0
            },
            "text/plain": [
              "  0%|          | 0/10000 [00:00<?, ?it/s]"
            ]
          },
          "metadata": {},
          "output_type": "display_data"
        },
        {
          "name": "stdout",
          "output_type": "stream",
          "text": [
            "CPU times: total: 9.95 s\n",
            "Wall time: 11.1 s\n"
          ]
        }
      ],
      "source": [
        "%%time\n",
        "explanation = explainer.explain_instance(X_test[0],\n",
        "                                         classifier_fn = simple_rf_pipeline.predict_proba,\n",
        "                                         top_labels=10, hide_color=0, num_samples=10000, segmentation_fn=segmenter)"
      ]
    },
    {
      "cell_type": "markdown",
      "source": [
        "Визуализируем объяснения из Lime - В первом изображении показаны только положительные области, которые влияют на определение данной метки. Во втором изображении показаны и положительные, и отрицательные области, влияющие на классификацию данной метки."
      ],
      "metadata": {
        "id": "vScTZmiyBXae"
      },
      "id": "vScTZmiyBXae"
    },
    {
      "cell_type": "code",
      "execution_count": null,
      "id": "85a2b6ce",
      "metadata": {
        "id": "85a2b6ce",
        "outputId": "7c330b89-ef24-4088-df18-2328793e0d6f"
      },
      "outputs": [
        {
          "data": {
            "text/plain": [
              "Text(0.5, 1.0, 'Positive/Negative Regions for 5')"
            ]
          },
          "execution_count": 16,
          "metadata": {},
          "output_type": "execute_result"
        },
        {
          "data": {
            "image/png": "[encoded data removed]",
            "text/plain": [
              "<Figure size 800x400 with 2 Axes>"
            ]
          },
          "metadata": {},
          "output_type": "display_data"
        }
      ],
      "source": [
        "temp, mask = explanation.get_image_and_mask(y_test[0], positive_only=True, num_features=10, hide_rest=False, min_weight = 0.01)\n",
        "fig, (ax1, ax2) = plt.subplots(1,2, figsize = (8, 4))\n",
        "ax1.imshow(label2rgb(mask,temp, bg_label = 0), interpolation = 'nearest')\n",
        "ax1.set_title('Positive Regions for {}'.format(y_test[0]))\n",
        "temp, mask = explanation.get_image_and_mask(y_test[0], positive_only=False, num_features=10, hide_rest=False, min_weight = 0.01)\n",
        "ax2.imshow(label2rgb(3-mask,temp, bg_label = 0), interpolation = 'nearest')\n",
        "ax2.set_title('Positive/Negative Regions for {}'.format(y_test[0]))"
      ]
    },
    {
      "cell_type": "code",
      "execution_count": null,
      "id": "d909db2e",
      "metadata": {
        "id": "d909db2e",
        "outputId": "ddbe0624-b088-4691-a7c8-149225328372"
      },
      "outputs": [
        {
          "data": {
            "image/png": "[encoded data removed]",
            "text/plain": [
              "<Figure size 1200x600 with 10 Axes>"
            ]
          },
          "metadata": {},
          "output_type": "display_data"
        }
      ],
      "source": [
        "# отображаем влияние каждого класса на классификацию конкретного изображения\n",
        "fig, m_axs = plt.subplots(2,5, figsize = (12,6))\n",
        "for i, c_ax in enumerate(m_axs.flatten()):\n",
        "    temp, mask = explanation.get_image_and_mask(i, positive_only=True, num_features=1000, hide_rest=False, min_weight = 0.01 )\n",
        "    c_ax.imshow(label2rgb(mask,X_test[0], bg_label = 0), interpolation = 'nearest')\n",
        "    c_ax.set_title('Positive for {}\\nActual {}'.format(i, y_test[0]))\n",
        "    c_ax.axis('off')"
      ]
    },
    {
      "cell_type": "markdown",
      "source": [
        "Выбираем один из неправильно предсказанных образцов тестового набора данных, используя предсказания, сделанные модельным конвейером simple_rf_pipeline, таким образом идентифицируем случаи совершения ошибки в предсказаниях"
      ],
      "metadata": {
        "id": "bA6pSc4uBvIB"
      },
      "id": "bA6pSc4uBvIB"
    },
    {
      "cell_type": "code",
      "execution_count": null,
      "id": "63b1ecfd",
      "metadata": {
        "id": "63b1ecfd",
        "outputId": "28ecc2bb-ccc7-4b3d-918c-e33a85c7c16f"
      },
      "outputs": [
        {
          "name": "stdout",
          "output_type": "stream",
          "text": [
            "Using #27581 where the label was 9 and the pipeline predicted 5\n"
          ]
        }
      ],
      "source": [
        "pipe_pred_test = simple_rf_pipeline.predict(X_test)\n",
        "wrong_idx = np.random.choice(np.where(pipe_pred_test!=y_test)[0])\n",
        "print('Using #{} where the label was {} and the pipeline predicted {}'.format(wrong_idx, y_test[wrong_idx], pipe_pred_test[wrong_idx]))"
      ]
    },
    {
      "cell_type": "markdown",
      "source": [
        "Анализируем это конкретное изображение, используя те же параметры, что и ранее"
      ],
      "metadata": {
        "id": "xkWqu9YHB9SK"
      },
      "id": "xkWqu9YHB9SK"
    },
    {
      "cell_type": "code",
      "execution_count": null,
      "id": "d2a69f2f",
      "metadata": {
        "colab": {
          "referenced_widgets": [
            "e3bb6c29e3b44a208ccb8c5cb9ede008"
          ]
        },
        "id": "d2a69f2f",
        "outputId": "5c77ea53-d5ad-4c77-e5aa-28fe706269d1"
      },
      "outputs": [
        {
          "data": {
            "application/vnd.jupyter.widget-view+json": {
              "model_id": "e3bb6c29e3b44a208ccb8c5cb9ede008",
              "version_major": 2,
              "version_minor": 0
            },
            "text/plain": [
              "  0%|          | 0/10000 [00:00<?, ?it/s]"
            ]
          },
          "metadata": {},
          "output_type": "display_data"
        },
        {
          "name": "stdout",
          "output_type": "stream",
          "text": [
            "CPU times: total: 10.5 s\n",
            "Wall time: 11.4 s\n"
          ]
        }
      ],
      "source": [
        "%%time\n",
        "explanation = explainer.explain_instance(X_test[wrong_idx],\n",
        "                                         classifier_fn = simple_rf_pipeline.predict_proba,\n",
        "                                         top_labels=10, hide_color=0, num_samples=10000, segmentation_fn=segmenter)"
      ]
    },
    {
      "cell_type": "markdown",
      "source": [
        "Таким образом в конечном итоге было выявлено как модель классификации обрабатывает и интерпретирует изображения из набора данных MNIST, а также какие области изображений оказывают наибольшее влияние на ее предсказания для различных классов."
      ],
      "metadata": {
        "id": "JN232rWaCMLH"
      },
      "id": "JN232rWaCMLH"
    },
    {
      "cell_type": "code",
      "execution_count": null,
      "id": "ca5c3667",
      "metadata": {
        "id": "ca5c3667",
        "outputId": "4e90616a-062a-4216-d4fe-8c3ca4f8fe0b"
      },
      "outputs": [
        {
          "data": {
            "image/png": "[encoded data removed]",
            "text/plain": [
              "<Figure size 1200x600 with 10 Axes>"
            ]
          },
          "metadata": {},
          "output_type": "display_data"
        }
      ],
      "source": [
        "# now show them for each class\n",
        "fig, m_axs = plt.subplots(2,5, figsize = (12,6))\n",
        "for i, c_ax in enumerate(m_axs.flatten()):\n",
        "    temp, mask = explanation.get_image_and_mask(i, positive_only=True, num_features=10, hide_rest=False, min_weight = 0.01 )\n",
        "    c_ax.imshow(label2rgb(mask,temp, bg_label = 0), interpolation = 'nearest')\n",
        "    c_ax.set_title('Positive for {}\\nActual {}'.format(i, y_test[wrong_idx]))\n",
        "    c_ax.axis('off')"
      ]
    },
    {
      "cell_type": "code",
      "execution_count": null,
      "id": "566ecef9",
      "metadata": {
        "id": "566ecef9"
      },
      "outputs": [],
      "source": []
    }
  ],
  "metadata": {
    "kernelspec": {
      "display_name": "Python 3 (ipykernel)",
      "language": "python",
      "name": "python3"
    },
    "language_info": {
      "codemirror_mode": {
        "name": "ipython",
        "version": 3
      },
      "file_extension": ".py",
      "mimetype": "text/x-python",
      "name": "python",
      "nbconvert_exporter": "python",
      "pygments_lexer": "ipython3",
      "version": "3.9.13"
    },
    "colab": {
      "provenance": []
    }
  },
  "nbformat": 4,
  "nbformat_minor": 5
}